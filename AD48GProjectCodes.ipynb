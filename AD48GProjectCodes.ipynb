{
 "cells": [
  {
   "cell_type": "markdown",
   "id": "beef1785-100c-418d-a245-3df6c17fe3e7",
   "metadata": {},
   "source": [
    "<center>  <h2>AD48G Term Project</h2>  \n",
    "Eda Bayrak – 2020300048<br>  \n",
    "Kemal Arda Elaman – 2020300129 </center>\n"
   ]
  },
  {
   "cell_type": "markdown",
   "id": "b59f9e38-d401-4d40-ac2f-0bb6c850f8c5",
   "metadata": {},
   "source": [
    "## Abstract"
   ]
  },
  {
   "cell_type": "markdown",
   "id": "2525b9bc-2c7a-4215-ab81-475f8f5a4d33",
   "metadata": {},
   "source": [
    "The primary objective of this study is to identify the key determinants that drive high-technology exports among countries. To minimize the influence of external factors unrelated to macroeconomic dynamics, the analysis focuses exclusively on member states of the European Union. Utilizing a panel dataset covering the years 2012 to 2021, the study incorporates a wide range of macroeconomic, commercial, political, and technology-related indicators.\n",
    "\n",
    "The relationship between high-tech exports and these explanatory variables is explored through various analytical methods, including Elastic Net regularization, decision tree analysis, k-means clustering, and principal component analysis (PCA). These complementary approaches enable the identification of the most influential variables across different domains.\n",
    "\n",
    "Findings from the analysis underscore the critical role of R&D expenditure, trade openness, control of corruption, and GDP per capita in accounting for cross-country variation in high-technology export performance.\n"
   ]
  },
  {
   "cell_type": "markdown",
   "id": "3a4fc6fa-41ad-49ae-9131-15702548537c",
   "metadata": {},
   "source": [
    "## Introduction"
   ]
  },
  {
   "cell_type": "markdown",
   "id": "006655a4-bf2b-4ed8-8fe7-dd7fe4d663e0",
   "metadata": {},
   "source": [
    "High-technology exports constitute a critical indicator of a country’s position in the global economic landscape, both in the present and the future. As a direct reflection of the level of high-tech production and the international demand for it, high-tech exports provide valuable insights into a nation’s technological capacity and its contribution to economic growth through external trade. In this context, our research aims to identify the key factors that promote the expansion of high-technology exports.\n",
    "\n",
    "Given the objective of uncovering the determinants of high-tech export performance, the study emphasizes variables related to production and trade. To minimize the confounding influence of cultural, institutional, or demographic differences, the analysis is limited to European countries. The dataset comprises macroeconomic, technological, political, and commercial indicators from 2012 to 2021.\n",
    "\n",
    "A range of machine learning and statistical methods were employed to ensure a robust, multi-dimensional analytical approach. By using this diverse methodology, the research identifies the primary drivers of high-tech exports and integrates insights across models to enrich interpretation and explanatory power.\n",
    "\n",
    "The key objectives of the study are as follows:\n",
    "(1) to determine which macro-level variables are most strongly associated with high-tech export performance,\n",
    "(2) to cluster European countries based on these explanatory factors and explore the common characteristics within each group,\n",
    "(3) to track and compare the evolution of countries’ positions with respect to these variables over the period 2012–2021."
   ]
  },
  {
   "cell_type": "markdown",
   "id": "2583ddb0-bf97-491a-aaf3-610cb1a4bbf5",
   "metadata": {},
   "source": [
    "## About the Dataset"
   ]
  },
  {
   "cell_type": "markdown",
   "id": "fc700ee7-366f-4940-bea7-b46ad5f8836c",
   "metadata": {},
   "source": [
    "This study uses the World Development Indicators (WDI) dataset provided by the World Bank, which offers a rich source of annual, country-level indicators covering a wide range of economic, innovation, governance, and social metrics. Our dataset includes observations for Euro Area countries spanning the period from 2012 to 2022, aligned with the availability of high-technology exports data.\n",
    "\n",
    "The dataset is structured in a long format, where each row corresponds to a country-indicator combination, and yearly values are provided across multiple columns. We focus on a selected set of indicators relevant to high-technology export performance. Key variables include:\n",
    "\n",
    "*The dependent variable:*\n",
    "* High-technology exports (current US$)\n",
    "\n",
    "\n",
    "*Innovation and economic indicators:*\n",
    "* Research and development expenditure (% of GDP)\n",
    "* Researchers in R&D (per million people)\n",
    "* Adjusted net national income per capita (current US$)\n",
    "\n",
    "*Governance and institutional quality:*\n",
    "* Control of corruption\n",
    "\n",
    "*Human capital and infrastructure:*\n",
    "* Technicians in R&D (per million people)\n",
    "* Self-employed, total (% of total employment) (modeled ILO estimate)\n",
    "* Population ages 15-64 (% of total population)\n",
    "\n",
    "After preprocessing and feature engineering (e.g., combining patent indicators), the dataset was used for modeling and clustering."
   ]
  },
  {
   "cell_type": "markdown",
   "id": "b9b462b1-1599-4eed-827d-785c03ade9f3",
   "metadata": {},
   "source": [
    "## Methods"
   ]
  },
  {
   "cell_type": "markdown",
   "id": "fa8e4020-7ab6-4a22-934f-c9dba2202f9a",
   "metadata": {},
   "source": [
    "##### 1. Data Collection and Preprocessing\n",
    "* Raw data was collected and transformed using packages such as data.table, dplyr.\n",
    "\n",
    "* The dataset was reshaped into a panel data structure, organized by country and year.\n",
    "\n",
    "* Missing values were handled and numeric variables were normalized to ensure comparability.\n",
    "\n",
    "##### 2. Exploratory Data Analysis (EDA)\n",
    "* Initial data exploration was conducted through descriptive statistics and visualizations using ggplot2 and patchworks.\n",
    "\n",
    "* Time trends, distribution patterns, and correlation matrices were evaluated to gain insights into the structure of the dataset.\n",
    "\n",
    "##### 3. Feature Selection with Elastic Net\n",
    "* All features were initially tested via the elastic net regression model using the glmnet package.\n",
    "\n",
    "* A second model was built using model.matrix() to include country and year dummies explicitly.\n",
    "\n",
    "* Cross-validation and model performance checks were performed.\n",
    "\n",
    "* Variables with high predictive power were selected based on coefficient magnitudes.\n",
    "\n",
    "##### 4. Correlation and Coefficient Alignment\n",
    "* For selected features, correlation signs were compared with coefficient directions in the model.\n",
    "\n",
    "* Variables with high correlation but conflicting coefficient signs, or with near-zero coefficients, were dropped.\n",
    "\n",
    "* This refinement step improved both the interpretability and predictive robustness of the model.\n",
    "\n",
    "##### 5. Panel Data Modeling\n",
    "* A Fixed Effects (FE) panel model was constructed using the plm package based on the cleaned feature set.\n",
    "\n",
    "* Robust standard errors were computed via vcovHC to address potential heteroskedasticity.\n",
    "\n",
    "* Model outputs were interpreted in the context of within-country variations over time.\n",
    "\n",
    "##### 6. Multicollinearity Control with VIF\n",
    "* Multicollinearity among remaining predictors was assessed using the Variance Inflation Factor (VIF).\n",
    "\n",
    "* Variables with excessively high VIF values were excluded from the final set to prevent instability.\n",
    "\n",
    "* A refined FE model was re-estimated and results were benchmarked against the initial model.\n",
    "\n",
    "##### 7. Decision Tree Modeling\n",
    "* A decision tree model was fitted using rpart to identify non-linear relationships and rule-based splits.\n",
    "\n",
    "* The tree was visualized with rpart.plot to highlight variable importance and cutoff points.\n",
    "\n",
    "##### 8. Clustering Analysis\n",
    "* Optimal number of clusters was identified using the elbow method.\n",
    "\n",
    "* K-means clustering was applied and results were visualized using fviz_cluster().\n",
    "\n",
    "* Countries were grouped into three economic innovation profiles, and each cluster’s traits were described.\n",
    "\n",
    "* Clustering results were also cross-validated with PCA dimensions for interpretability.\n",
    "\n",
    "##### 9. Principal Component Analysis (PCA)\n",
    "* Dimensionality reduction was conducted using PCA.\n",
    "\n",
    "* Principal components such as Dim.1 and Dim.2 were interpreted based on their loadings.\n",
    "\n",
    "* PCA helped visualize country positions in a reduced feature space and interpret variance-explaining features.\n"
   ]
  },
  {
   "cell_type": "markdown",
   "id": "989d50f3-d1ad-4e78-b49c-79f7438ce383",
   "metadata": {
    "tags": []
   },
   "source": [
    "## Outline of the Research\n",
    "##### 1. Data Collection and Preprocessing\n",
    "##### 2. Visual Inspection of the Dataset\n",
    "##### 3. Elastic Net Analysis Including All Features\n",
    "##### 4. Elastic Net Analysis with Selected Features and Country/Year dummies\n",
    "##### 5. PLM with excluded variables based on Model Coefficients and Correlations\n",
    "##### 6. Multicollinearity Control with VIF\n",
    "##### 7. Decision Tree Analysis\n",
    "##### 8. Clustering Analysis\n",
    "##### 9. Principal Component Analysis (PCA)"
   ]
  },
  {
   "cell_type": "markdown",
   "id": "982654d0-c659-4748-96b8-fdc5a38cce0a",
   "metadata": {},
   "source": [
    "### Codes"
   ]
  },
  {
   "cell_type": "markdown",
   "id": "3edbcb67-836f-4214-a6a3-9bc05ccb8b9a",
   "metadata": {},
   "source": [
    "#### Installing necessary packages"
   ]
  },
  {
   "cell_type": "code",
   "execution_count": null,
   "id": "9a69e3fe-bba7-413c-a68a-0bef0e78ba3e",
   "metadata": {
    "tags": [],
    "trusted": true
   },
   "outputs": [],
   "source": [
    "install.packages(c(\"tidyverse\", \"readxl\", \"data.table\", \"httr\"))\n",
    "install.packages(\"ggplot2\")\n",
    "install.packages(\"sf\")\n",
    "install.packages(\"rnaturalearth\", repos = \"http://cran.us.r-project.org\")\n",
    "install.packages(\"magrittr\", repos = \"http://cran.us.r-project.org\")\n",
    "install.packages(\"rnaturalearthdata\", repos = \"http://cran.us.r-project.org\")\n",
    "install.packages(\"heatmaply\") \n",
    "install.packages(\"patchwork\")"
   ]
  },
  {
   "cell_type": "markdown",
   "id": "4ce1d16a-5dda-404b-88bb-2a2717e5f56c",
   "metadata": {},
   "source": [
    "#### Calling libraries"
   ]
  },
  {
   "cell_type": "code",
   "execution_count": null,
   "id": "d1c6a42c-1438-4fb4-86a7-650c784a83cf",
   "metadata": {
    "tags": [],
    "trusted": true
   },
   "outputs": [],
   "source": [
    "library(readxl)\n",
    "library(stringr)\n",
    "library(data.table)\n",
    "library(dplyr)\n",
    "library(tidyr)\n",
    "library(tibble)\n",
    "library(magrittr)\n",
    "library(BBmisc)\n",
    "library(ggplot2)\n",
    "library(plotly)\n",
    "library(corrplot)\n",
    "library(pheatmap)\n",
    "library(heatmaply)\n",
    "library(formattable)\n",
    "library(knitr)\n",
    "library(kableExtra)\n",
    "library(patchwork)\n",
    "library(circlize)\n",
    "library(sf)\n",
    "library(rnaturalearth)\n",
    "library(rnaturalearthdata)\n",
    "library(glmnet)\n",
    "library(caret)\n",
    "library(plm)\n",
    "library(car)\n",
    "library(rpart)\n",
    "library(rpart.plot)\n",
    "library(cluster)\n",
    "library(factoextra)\n",
    "library(FactoMineR)\n",
    "library(NbClust)\n",
    "library(HDclassif)\n",
    "library(fastcluster)\n",
    "library(vegan)\n",
    "library(compareGroups)\n",
    "library(broom)\n",
    "library(IRdisplay)\n",
    "library(listviewer)\n",
    "library(microbenchmark)\n",
    "library(httr)"
   ]
  },
  {
   "cell_type": "markdown",
   "id": "c3df2f40-7866-4e93-ab32-14d06819e71e",
   "metadata": {},
   "source": [
    "### 1. Data Collection and Preprocessing"
   ]
  },
  {
   "cell_type": "code",
   "execution_count": null,
   "id": "11ea021a-43f4-4a00-99d8-db394a1edf09",
   "metadata": {
    "tags": [],
    "trusted": true
   },
   "outputs": [],
   "source": [
    "# the link to the github page containing the dataset\n",
    "wdi_link <- \"https://github.com/bbayrakeda/HighTech/raw/refs/heads/main/data%20wdi.xlsx\"\n",
    "\n",
    "temp_file <- tempfile(fileext = \".xlsx\")\n",
    "\n",
    "req <- GET(wdi_link,\n",
    "           authenticate(Sys.getenv(\"GITHUB_PAT\"), \"\"),\n",
    "           write_disk(path = temp_file))\n",
    "\n",
    "wdidata <- readxl::read_excel(temp_file)\n",
    "\n",
    "# printing the first six observations\n",
    "head(wdidata)"
   ]
  },
  {
   "cell_type": "code",
   "execution_count": null,
   "id": "f2cf1ead-57d8-4b80-b19c-613fd2849843",
   "metadata": {
    "tags": [],
    "trusted": true
   },
   "outputs": [],
   "source": [
    "print(names(wdidata))"
   ]
  },
  {
   "cell_type": "markdown",
   "id": "8fc6d96e-5811-4ad4-a258-0552f3d12d5c",
   "metadata": {},
   "source": [
    "#### Seting names and years"
   ]
  },
  {
   "cell_type": "code",
   "execution_count": null,
   "id": "96691ac0-f356-4e24-9fb0-5c2715e924d4",
   "metadata": {
    "tags": [],
    "trusted": true
   },
   "outputs": [],
   "source": [
    "setnames(wdidata, old = c(\"Country Name\", \"Country Code\", \"Series Name\", \"Series Code\"),\n",
    "         new = c(\"countryname\", \"countrycode\", \"seriesname\", \"seriescode\"))\n",
    "year_columns <- names(wdidata)[grep(\"\\\\[YR\", names(wdidata))]"
   ]
  },
  {
   "cell_type": "markdown",
   "id": "a02a55b6-b85f-4688-850f-b7143534b43a",
   "metadata": {},
   "source": [
    "#### Data Melting"
   ]
  },
  {
   "cell_type": "code",
   "execution_count": null,
   "id": "4a866a57-121c-4984-9a1c-98c7d09be04d",
   "metadata": {
    "tags": [],
    "trusted": true
   },
   "outputs": [],
   "source": [
    "melted_wdi <- melt(as.data.table(wdidata),\n",
    "                    id.vars = c(\"countryname\", \"countrycode\", \"seriesname\", \"seriescode\"),\n",
    "                    measure.vars = year_columns,\n",
    "                    variable.name = \"year\",\n",
    "                    value.name = \"value\")\n",
    "\n",
    "head(melted_wdi)"
   ]
  },
  {
   "cell_type": "code",
   "execution_count": null,
   "id": "f80ada62-d8ff-40b3-8207-08ab3b11e6f1",
   "metadata": {
    "tags": [],
    "trusted": true
   },
   "outputs": [],
   "source": [
    "# Shortening the year values to 4 digits\n",
    "setDT(melted_wdi)\n",
    "melted_wdi <- melted_wdi[, year := substr(year, 1, 4)]\n",
    "\n",
    "head(melted_wdi)"
   ]
  },
  {
   "cell_type": "markdown",
   "id": "857588a3-bc5a-45a2-ad2c-d04be69c5833",
   "metadata": {},
   "source": [
    "#### Unique series of the Dataset"
   ]
  },
  {
   "cell_type": "code",
   "execution_count": null,
   "id": "163dda83-f229-4136-a230-cdd87c506728",
   "metadata": {
    "tags": [],
    "trusted": true
   },
   "outputs": [],
   "source": [
    "# Creating a new variable with unique variable names\n",
    "unique_series_names <- unique(melted_wdi$`seriesname`)\n",
    "\n",
    "# Finding the length of the series \n",
    "num_unique_series_names <- length(unique_series_names)\n",
    "\n",
    "print(num_unique_series_names)\n",
    "print(unique_series_names)"
   ]
  },
  {
   "cell_type": "markdown",
   "id": "c5346366-e789-4c8d-9a09-58239faff057",
   "metadata": {},
   "source": [
    "#### Transforming the Data into Wide Format"
   ]
  },
  {
   "cell_type": "code",
   "execution_count": null,
   "id": "bebfd8c5-322e-4282-bae9-4a7c775e0eee",
   "metadata": {
    "tags": [],
    "trusted": true
   },
   "outputs": [],
   "source": [
    "wdi_wide <- melted_wdi %>%\n",
    "  pivot_wider(\n",
    "    names_from = seriesname,\n",
    "    values_from = value,\n",
    "    id_cols = c(countryname, countrycode, year)\n",
    "  )\n",
    "\n",
    "head(wdi_wide)"
   ]
  },
  {
   "cell_type": "code",
   "execution_count": null,
   "id": "81308472-9d58-4dc3-86b1-92eb45ce6d35",
   "metadata": {
    "tags": [],
    "trusted": true
   },
   "outputs": [],
   "source": [
    "setnames(wdi_wide, old = \"High-technology exports (current US$)\",\n",
    "         new = \"hightechexports\")\n",
    "\n",
    "setnames(wdi_wide, old = \"High-technology exports (% of manufactured exports)\",\n",
    "         new = \"hightechexportsratio\")"
   ]
  },
  {
   "cell_type": "code",
   "execution_count": null,
   "id": "82538851-b68d-4314-b0b4-5d4b801ea475",
   "metadata": {
    "tags": [],
    "trusted": true
   },
   "outputs": [],
   "source": [
    "print(names(wdi_wide))"
   ]
  },
  {
   "cell_type": "markdown",
   "id": "881fb527-d58f-4266-8fc3-e1831761b0f1",
   "metadata": {},
   "source": [
    "#### Converting columns to numeric "
   ]
  },
  {
   "cell_type": "code",
   "execution_count": null,
   "id": "48de6964-5f01-49ef-8b7d-f7b3ebffd52e",
   "metadata": {
    "tags": [],
    "trusted": true
   },
   "outputs": [],
   "source": [
    "wdi_wide_n <- wdi_wide %>%\n",
    "  mutate(across(\n",
    "    -c(countryname, countrycode, year), \n",
    "    ~ suppressWarnings(as.numeric(.)) \n",
    "  ))\n",
    "\n",
    "head(wdi_wide_n)"
   ]
  },
  {
   "cell_type": "markdown",
   "id": "36589e41-414b-4da6-9c28-925a495bf5eb",
   "metadata": {},
   "source": [
    "#### Removing EUU and EMU data due to poor quality/missing values "
   ]
  },
  {
   "cell_type": "code",
   "execution_count": null,
   "id": "1fa86b6f-a732-4ce1-9335-9ea50d606bba",
   "metadata": {
    "tags": [],
    "trusted": true
   },
   "outputs": [],
   "source": [
    "wdi_wide_n <- wdi_wide_n[!wdi_wide_n$countrycode %in% c(\"EUU\", \"EMU\"), ]"
   ]
  },
  {
   "cell_type": "markdown",
   "id": "0d3e093b-ce72-46f1-a76a-16341eb0982e",
   "metadata": {},
   "source": [
    "#### NA Analysis and Summary of the Data"
   ]
  },
  {
   "cell_type": "markdown",
   "id": "9d2432d8-e3e0-41d1-b02b-24b8314004cc",
   "metadata": {},
   "source": [
    "Several variables (10 out of 31) in the dataset contained missing values, with most having fewer than 20 NAs, though a few (e.g., Technicians in R&D) had over 100. To address this, missing values were imputed using medians. This method was chosen due to the presence of non-normal distributions and outliers in many variables such as FDI (% of GDP) and Bank nonperforming loans, which could bias the mean. Median imputation helped retain observations while reducing the influence of extreme values."
   ]
  },
  {
   "cell_type": "code",
   "execution_count": null,
   "id": "bac637cf-a8b1-454e-a60b-cc35594a90df",
   "metadata": {
    "trusted": true
   },
   "outputs": [],
   "source": [
    "wdi_wide_n %>% dplyr::select(where(is.numeric)) %>% summary()"
   ]
  },
  {
   "cell_type": "code",
   "execution_count": null,
   "id": "b786848a-5a0b-4184-a42e-65a97eff3fe4",
   "metadata": {
    "tags": [],
    "trusted": true
   },
   "outputs": [],
   "source": [
    "num_cols <- names(wdi_wide_n)[sapply(wdi_wide_n, is.numeric)]\n",
    "num_cols <- setdiff(num_cols, \"year\") \n",
    "\n",
    "for(col in num_cols) {\n",
    "  wdi_wide_n[[col]][is.na(wdi_wide_n[[col]])] <- median(wdi_wide_n[[col]], na.rm = TRUE)\n",
    "}"
   ]
  },
  {
   "cell_type": "markdown",
   "id": "332beca9-67b2-4d68-9c15-ef2d5a7b2bfe",
   "metadata": {},
   "source": [
    "### 2. Visual Inspection of the Dataset"
   ]
  },
  {
   "cell_type": "code",
   "execution_count": null,
   "id": "e0f22ac6-4dd4-4a04-b6f1-885408af5ec2",
   "metadata": {
    "tags": [],
    "trusted": true
   },
   "outputs": [],
   "source": [
    "options(repr.plot.width = 16, repr.plot.height = 10)\n",
    "\n",
    "ggplot(wdi_wide_n, aes(x = year, y = hightechexports, color = countryname, group = countryname)) +\n",
    "  geom_line() +\n",
    "  labs(title = \"High-Tech Exports Over Time (current US$)\",\n",
    "       x = \"Year\",\n",
    "       y = \"High-Tech Exports (current US$)\",\n",
    "       color = \"Country\") +\n",
    "  theme(legend.position = \"bottom\")\n",
    "\n",
    "ggplot(wdi_wide_n, aes(x = year, y = hightechexportsratio, color = countryname, group = countryname)) +\n",
    "  geom_line() +\n",
    "  labs(title = \"High-Tech Exports Over Time (% of manufactured exports)\",\n",
    "       x = \"Year\",\n",
    "       y = \"High-Tech Exports (% of manufactured exports)\",\n",
    "       color = \"Country\") +\n",
    "  theme(legend.position = \"bottom\")"
   ]
  },
  {
   "cell_type": "markdown",
   "id": "acf7c4a1-7db1-4bd0-a97d-67f659dd4c80",
   "metadata": {},
   "source": [
    "#### High-Tech Exports Graphs for All Countries (2012,2017,2021)"
   ]
  },
  {
   "cell_type": "code",
   "execution_count": null,
   "id": "d35c8197-5148-49fe-a672-37062f77d804",
   "metadata": {
    "tags": [],
    "trusted": true
   },
   "outputs": [],
   "source": [
    "p1 <- ggplot(wdi_wide_n[wdi_wide_n$year == 2012, ], \n",
    "             aes(x = reorder(countryname, -hightechexports), \n",
    "                 y = hightechexports, \n",
    "                 fill = countryname)) +\n",
    "      geom_col() +\n",
    "      coord_flip() +\n",
    "      labs(title = \"High-Tech Exports (2012)\", x = NULL, y = NULL) +\n",
    "      theme(legend.position = \"none\", axis.text.y = element_text(size = 8))\n",
    "\n",
    "p2 <- ggplot(wdi_wide_n[wdi_wide_n$year == 2017, ], \n",
    "             aes(x = reorder(countryname, -hightechexports), \n",
    "                 y = hightechexports, \n",
    "                 fill = countryname)) +\n",
    "      geom_col() +\n",
    "      coord_flip() +\n",
    "      labs(title = \"High-Tech Exports (2017)\", x = NULL, y = NULL) +\n",
    "      theme(legend.position = \"none\", axis.text.y = element_text(size = 8))\n",
    "\n",
    "p3 <- ggplot(wdi_wide_n[wdi_wide_n$year == 2021, ], \n",
    "             aes(x = reorder(countryname, -hightechexports), \n",
    "                 y = hightechexports, \n",
    "                 fill = countryname)) +\n",
    "      geom_col() +\n",
    "      coord_flip() +\n",
    "      labs(title = \"High-Tech Exports (2021)\", x = NULL, y = NULL) +\n",
    "      theme(legend.position = \"none\", axis.text.y = element_text(size = 8))  \n",
    "\n",
    "ggplotly(p1)  \n",
    "ggplotly(p2) \n",
    "ggplotly(p3) "
   ]
  },
  {
   "cell_type": "markdown",
   "id": "1aaeb892-db99-41fc-bbd8-ff958d5d8693",
   "metadata": {},
   "source": [
    "#### High-Tech Exports Ratio Graphs for All Countries (2012,2017,2021)"
   ]
  },
  {
   "cell_type": "code",
   "execution_count": null,
   "id": "8b9247b8-3c76-4a93-a27b-8e2ad4a09814",
   "metadata": {
    "tags": [],
    "trusted": true
   },
   "outputs": [],
   "source": [
    "p1 <- ggplot(wdi_wide_n[wdi_wide_n$year == 2012, ], \n",
    "             aes(x = reorder(countryname, -hightechexportsratio), \n",
    "                 y = hightechexportsratio, \n",
    "                 fill = countryname)) +\n",
    "      geom_col() +\n",
    "      coord_flip() +\n",
    "      labs(title = \"High-Tech Exports Ratio (2012)\", x = NULL, y = NULL) +\n",
    "      theme(legend.position = \"none\", axis.text.y = element_text(size = 8))\n",
    "\n",
    "p2 <- ggplot(wdi_wide_n[wdi_wide_n$year == 2017, ], \n",
    "             aes(x = reorder(countryname, -hightechexportsratio), \n",
    "                 y = hightechexportsratio, \n",
    "                 fill = countryname)) +\n",
    "      geom_col() +\n",
    "      coord_flip() +\n",
    "      labs(title = \"High-Tech Exports Ratio (2017)\", x = NULL, y = NULL) +\n",
    "      theme(legend.position = \"none\", axis.text.y = element_text(size = 8))\n",
    "\n",
    "p3 <- ggplot(wdi_wide_n[wdi_wide_n$year == 2021, ], \n",
    "             aes(x = reorder(countryname, -hightechexportsratio), \n",
    "                 y = hightechexportsratio, \n",
    "                 fill = countryname)) +\n",
    "      geom_col() +\n",
    "      coord_flip() +\n",
    "      labs(title = \"High-Tech Exports Ratio (2021)\", x = NULL, y = NULL) +\n",
    "      theme(legend.position = \"none\", axis.text.y = element_text(size = 8))  \n",
    "\n",
    "ggplotly(p1)  \n",
    "ggplotly(p2) \n",
    "ggplotly(p3) "
   ]
  },
  {
   "cell_type": "markdown",
   "id": "ca622ab5-5a58-4425-90bb-a642b5f4f383",
   "metadata": {},
   "source": [
    "#### High Tech Exports Values on the Map (2021)"
   ]
  },
  {
   "cell_type": "code",
   "execution_count": null,
   "id": "04edc8d4-8e7d-4ff6-8a12-0fd3f2455e04",
   "metadata": {
    "tags": [],
    "trusted": true
   },
   "outputs": [],
   "source": [
    "hightech_wdi <- wdi_wide_n[c(1,2,3,14)]\n",
    "\n",
    "\n",
    "world <- ne_countries(scale = \"medium\", returnclass = \"sf\")\n",
    "\n",
    "\n",
    "europe <- world %>%\n",
    "  filter(continent == \"Europe\") %>%\n",
    "  filter(!sovereignt %in% c(\"Russia\", \"Turkey\", \"Kazakhstan\", \"Azerbaijan\", \"Armenia\", \"Georgia\"))\n",
    "\n",
    "\n",
    "euro_data_2021 <- hightech_wdi[hightech_wdi$year == 2021, ]\n",
    "\n",
    "\n",
    "euro_data_2021$countryname <- as.character(euro_data_2021$countryname)\n",
    "\n",
    "\n",
    "europe_data <- euro_data_2021 %>%\n",
    "  filter(countryname %in% europe$sovereignt)\n",
    "\n",
    "\n",
    "europe_map <- left_join(europe, europe_data, by = c(\"sovereignt\" = \"countryname\"))\n",
    "\n",
    "\n",
    "ggplot(europe_map) +\n",
    "  geom_sf(aes(fill = hightechexports), color = \"gray\", size = 0.1) +\n",
    "  scale_fill_gradient(low = \"lightblue\", high = \"darkblue\", \n",
    "                      name = \"High-Tech Exports ($)\",\n",
    "                      na.value = \"gray\", \n",
    "                      limits = c(0, max(europe_map$hightechexports, na.rm = TRUE))) + \n",
    "  labs(title = \"High-Tech Exports in Europe (2021)\", fill = \"Export Value ($)\") +\n",
    "  theme_void() +\n",
    "  theme(legend.position = \"bottom\",\n",
    "        plot.margin = unit(c(0.5, 0.5, 0.5, 0.5), \"cm\")) + \n",
    "  coord_sf(xlim = c(st_bbox(europe_map)$xmin, st_bbox(europe_map)$xmax),\n",
    "           ylim = c(st_bbox(europe_map)$ymin, st_bbox(europe_map)$ymax))"
   ]
  },
  {
   "cell_type": "markdown",
   "id": "718eaed2-f6bf-40d2-b0a1-ce8b6629d047",
   "metadata": {},
   "source": [
    "#### High-Tech Exports Over Time by Country"
   ]
  },
  {
   "cell_type": "code",
   "execution_count": null,
   "id": "8649569c-2514-4711-83f4-f330ea79fc1b",
   "metadata": {
    "tags": [],
    "trusted": true
   },
   "outputs": [],
   "source": [
    "wdi_year <- setorder(hightech_wdi, year)\n",
    "\n",
    "wdi_year_ordered <- wdi_year %>%\n",
    "  arrange(year, desc(hightechexports))\n",
    "\n",
    "\n",
    "ggplot(wdi_year_ordered, aes(x = year, y = hightechexports, color = countryname, group = countryname)) +\n",
    "  geom_line() +\n",
    "  geom_point() +\n",
    "  facet_wrap(~countryname, scales = \"free_y\") +  \n",
    "  labs(title = \"High-Tech Exports Over Time by Country\",\n",
    "       x = \"Year\",\n",
    "       y = \"High-Tech Exports ($)\") +\n",
    "  theme(legend.position = \"none\")"
   ]
  },
  {
   "cell_type": "markdown",
   "id": "d89864e7-ed60-427e-9b1f-18f24c3bfe43",
   "metadata": {},
   "source": [
    "#### Correlation Matrix"
   ]
  },
  {
   "cell_type": "code",
   "execution_count": null,
   "id": "a18c0fff-b845-4440-bb29-09831ffc2000",
   "metadata": {
    "tags": [],
    "trusted": true
   },
   "outputs": [],
   "source": [
    "matrix_df <- wdi_wide_n[, -c(1:3)]\n",
    "\n",
    "cor_matrix <- cor(matrix_df)\n",
    "cor_matrix"
   ]
  },
  {
   "cell_type": "markdown",
   "id": "0b1463c4-cd9f-4c5c-91c5-82c1da249e5e",
   "metadata": {},
   "source": [
    "#### Correlation Heatmaps of Selected Countries (Germany, Romania, Spain) "
   ]
  },
  {
   "cell_type": "code",
   "execution_count": null,
   "id": "78ea8faa-9785-42e6-b60c-a37a9e70cc41",
   "metadata": {
    "tags": [],
    "trusted": true
   },
   "outputs": [],
   "source": [
    "df_ger <- wdi_wide_n %>%\n",
    "  filter(countryname == \"Germany\")\n",
    "\n",
    "df_ger <- df_ger[,-c(1,2,3)]\n",
    "\n",
    "df_rom <- wdi_wide_n %>%\n",
    "  filter(countryname == \"Romania\")\n",
    "\n",
    "df_rom <- df_rom[,-c(1,2,3)]\n",
    "\n",
    "df_esp <- wdi_wide_n %>%\n",
    "  filter(countryname == \"Spain\")\n",
    "\n",
    "df_esp <- df_esp[,-c(1,2,3)]\n",
    "\n",
    "\n",
    "#Germany\n",
    "colnames(df_ger) <- str_trunc(colnames(df_ger), width = 20, side = \"right\")\n",
    "\n",
    "cor_matrix <- cor(df_ger, use = \"complete.obs\")\n",
    "\n",
    "cor_melt <- melt(cor_matrix)\n",
    "\n",
    "ggplot(cor_melt, aes(x = Var1, y = Var2, fill = value)) +\n",
    "  geom_tile(color = \"white\") +\n",
    "  scale_fill_gradient2(low = \"blue\", high = \"red\", mid = \"white\",\n",
    "                       midpoint = 0, limit = c(-1,1),\n",
    "                       name=\"Correlation\") +\n",
    "  theme_minimal(base_size = 10) +\n",
    "  theme(\n",
    "    axis.text.x = element_text(angle = 45, vjust = 1, hjust = 1, size = 9),\n",
    "    axis.text.y = element_text(size = 9),\n",
    "    plot.title = element_text(hjust = 0.5, size = 14),\n",
    "    axis.title = element_blank()\n",
    "  ) +\n",
    "  coord_fixed() +\n",
    "  labs(title = \"Correlation Heatmap - Germany\")\n",
    "\n",
    "#Romania\n",
    "colnames(df_rom) <- str_trunc(colnames(df_rom), width = 20, side = \"right\")\n",
    "\n",
    "cor_matrix <- cor(df_rom, use = \"complete.obs\")\n",
    "\n",
    "cor_melt <- melt(cor_matrix)\n",
    "\n",
    "ggplot(cor_melt, aes(x = Var1, y = Var2, fill = value)) +\n",
    "  geom_tile(color = \"white\") +\n",
    "  scale_fill_gradient2(low = \"blue\", high = \"red\", mid = \"white\",\n",
    "                       midpoint = 0, limit = c(-1,1),\n",
    "                       name=\"Correlation\") +\n",
    "  theme_minimal(base_size = 10) +\n",
    "  theme(\n",
    "    axis.text.x = element_text(angle = 45, vjust = 1, hjust = 1, size = 9),\n",
    "    axis.text.y = element_text(size = 9),\n",
    "    plot.title = element_text(hjust = 0.5, size = 14),\n",
    "    axis.title = element_blank()\n",
    "  ) +\n",
    "  coord_fixed() +\n",
    "  labs(title = \"Correlation Heatmap - Romania\")\n",
    "\n",
    "#Spain\n",
    "colnames(df_esp) <- str_trunc(colnames(df_esp), width = 20, side = \"right\")\n",
    "\n",
    "cor_matrix <- cor(df_esp, use = \"complete.obs\")\n",
    "\n",
    "cor_melt <- melt(cor_matrix)\n",
    "\n",
    "ggplot(cor_melt, aes(x = Var1, y = Var2, fill = value)) +\n",
    "  geom_tile(color = \"white\") +\n",
    "  scale_fill_gradient2(low = \"blue\", high = \"red\", mid = \"white\",\n",
    "                       midpoint = 0, limit = c(-1,1),\n",
    "                       name=\"Correlation\") +\n",
    "  theme_minimal(base_size = 10) +\n",
    "  theme(\n",
    "    axis.text.x = element_text(angle = 45, vjust = 1, hjust = 1, size = 9),\n",
    "    axis.text.y = element_text(size = 9),\n",
    "    plot.title = element_text(hjust = 0.5, size = 14),\n",
    "    axis.title = element_blank()\n",
    "  ) +\n",
    "  coord_fixed() +\n",
    "  labs(title = \"Correlation Heatmap - Spain\")"
   ]
  },
  {
   "cell_type": "markdown",
   "id": "632d75bc-5348-4f8d-aae3-aa42aa0d011b",
   "metadata": {},
   "source": [
    "#### Column Renaming\n",
    "To ease data analysis, we renamed columns as below"
   ]
  },
  {
   "cell_type": "code",
   "execution_count": null,
   "id": "02b1818d-2715-46bd-9ebf-dec87a551a31",
   "metadata": {
    "tags": [],
    "trusted": true
   },
   "outputs": [],
   "source": [
    "new_colnames <- c(\n",
    "  \"countryname\",\n",
    "  \"countrycode\",\n",
    "  \"year\",\n",
    "  \"adjusted_net_national_income_per_capita_usd\",\n",
    "  \"bank_nonperforming_loans_percent\",\n",
    "  \"control_of_corruption\",\n",
    "  \"export_unit_value_index_2015\",\n",
    "  \"fdi_net_inflows_percent_gdp\",\n",
    "  \"gdp_per_capita_growth_percent\",\n",
    "  \"gdp_per_capita_ppp_2021\",\n",
    "  \"gdp_per_person_employed_ppp_2021\",\n",
    "  \"gross_fixed_capital_formation_usd_2015\",\n",
    "  \"hightechexportsratio\",\n",
    "  \"hightechexports\",\n",
    "  \"logistics_performance_index\",\n",
    "  \"patent_applications_nonresidents\",\n",
    "  \"patent_applications_residents\",\n",
    "  \"political_stability\",\n",
    "  \"population_ages_15_64_percent\",\n",
    "  \"rd_expenditure_percent_gdp\",\n",
    "  \"researchers_rd_per_million\",\n",
    "  \"self_employed_percent_total_employment\",\n",
    "  \"tax_revenue_percent_gdp\",\n",
    "  \"tax_revenue_lcu\",\n",
    "  \"taxes_less_subsidies_constant_lcu\",\n",
    "  \"taxes_less_subsidies_current_lcu\",\n",
    "  \"taxes_less_subsidies_current_usd\",\n",
    "  \"taxes_goods_services_percent_revenue\",\n",
    "  \"taxes_goods_services_percent_value_added\",\n",
    "  \"taxes_goods_services_current_lcu\",\n",
    "  \"technicians_rd_per_million\",\n",
    "  \"trade_percent_gdp\",\n",
    "  \"trademark_applications_nonresident\",\n",
    "  \"trademark_applications_resident\")\n",
    "\n",
    "colnames(wdi_wide_n) <- new_colnames\n",
    "\n",
    "head(wdi_wide_n)"
   ]
  },
  {
   "cell_type": "markdown",
   "id": "d383d9e8-a87e-4000-806b-b7294e0ebf0c",
   "metadata": {},
   "source": [
    "#### Scaling Target and Feature Variables\n",
    "Target variable as \"High-technology exports (current US$)\""
   ]
  },
  {
   "cell_type": "code",
   "execution_count": null,
   "id": "4b32835c-5b27-4d47-9efe-44e644d04225",
   "metadata": {
    "tags": [],
    "trusted": true
   },
   "outputs": [],
   "source": [
    "target_scaled <- scale(wdi_wide_n[,14])\n",
    "head(target_scaled)"
   ]
  },
  {
   "cell_type": "code",
   "execution_count": null,
   "id": "0befc7de-4639-4bb5-a9f5-d0e2b865af9b",
   "metadata": {
    "tags": [],
    "trusted": true
   },
   "outputs": [],
   "source": [
    "predictors_scaled <- scale(wdi_wide_n[, -c(1:3, 13:14)])\n",
    "head(predictors_scaled)"
   ]
  },
  {
   "cell_type": "markdown",
   "id": "5d029b61-0e7a-458c-a6bb-065faa541cb7",
   "metadata": {
    "tags": []
   },
   "source": [
    "### 3. Elastic Net Analysis Including All Features\n",
    "This Elastic Net model was run using only the raw feature set, excluding country and year dummies. It served as an initial step to filter out irrelevant or weak predictors. The selected features from this model were then used in a more comprehensive Elastic Net model that included country and year effects."
   ]
  },
  {
   "cell_type": "code",
   "execution_count": null,
   "id": "afcd2b82-7360-4507-a39f-f33a99ab9e3e",
   "metadata": {
    "tags": [],
    "trusted": true
   },
   "outputs": [],
   "source": [
    "X <- predictors_scaled\n",
    "\n",
    "y <- target_scaled\n",
    "\n",
    "cv_model <- cv.glmnet(X, y, alpha = 0.5)\n",
    "\n",
    "best_lambda <- cv_model$lambda.min\n",
    "\n",
    "elastic_net <- glmnet(X, y, alpha = 0.5, lambda = best_lambda)\n",
    "\n",
    "print(coef(elastic_net))"
   ]
  },
  {
   "cell_type": "markdown",
   "id": "b7f24f40-d250-40a8-9b61-388025686623",
   "metadata": {
    "tags": [],
    "vscode": {
     "languageId": "r"
    }
   },
   "source": [
    "#### Elastic Net Feature Importance Plot\n",
    "The results of the Elastic Net regression highlight the relative contributions of various economic indicators to the model's predictive performance. The variables are presented in descending order of importance, with gross fixed capital formation presented as the most influential factor. This is followed closely by GDP per employed person and trade as a percentage of GDP, suggesting these measures play a substantial role in explaining variation in the outcome variable."
   ]
  },
  {
   "cell_type": "code",
   "execution_count": null,
   "id": "cb45a65a-0f76-4b71-9fbb-89b650e44a15",
   "metadata": {
    "tags": [],
    "trusted": true
   },
   "outputs": [],
   "source": [
    "coef_df <- as.data.frame(as.matrix(coef(elastic_net)))\n",
    "coef_df$Variable <- rownames(coef_df)\n",
    "colnames(coef_df) <- c(\"Coefficient\", \"Variable\")\n",
    "\n",
    "coef_df <- coef_df %>%\n",
    "  filter(Variable != \"(Intercept)\") %>%\n",
    "  arrange(desc(abs(Coefficient)))\n",
    "\n",
    "ggplot(coef_df, aes(x = reorder(Variable, abs(Coefficient)), y = abs(Coefficient))) +\n",
    "  geom_bar(stat = \"identity\", fill = \"steelblue\") +\n",
    "  coord_flip() +\n",
    "  labs(title = \"Feature Importance in EN\",\n",
    "       x = \"Variable\", y = \"Absolute Coefficient Value\") +\n",
    "  theme_minimal()"
   ]
  },
  {
   "cell_type": "markdown",
   "id": "c2ba2e3b-7bc9-4ef7-b5bd-b122a8674fa0",
   "metadata": {},
   "source": [
    "#### Variable Deduction via Elastic Net Including All Features in the Dataset"
   ]
  },
  {
   "cell_type": "markdown",
   "id": "8a0c4d86-be90-4976-be1c-1f917b0da7cc",
   "metadata": {},
   "source": [
    "Selecting the variables to be kept for deeper Elastic Net analysis below and created 2 new features by combining 2 rows each (total_patent_applications and total_trademark_applications)."
   ]
  },
  {
   "cell_type": "code",
   "execution_count": null,
   "id": "42d3009d-7c76-4771-85cd-65c21fd83cad",
   "metadata": {
    "tags": [],
    "trusted": true
   },
   "outputs": [],
   "source": [
    "wdi_wide_s <- wdi_wide_n %>%\n",
    "  dplyr::select(\n",
    "    \"countryname\",\n",
    "    \"countrycode\",\n",
    "    \"year\",\n",
    "    \"hightechexports\",\n",
    "    \"taxes_less_subsidies_current_usd\",\n",
    "    \"taxes_goods_services_percent_value_added\",\n",
    "    \"gdp_per_person_employed_ppp_2021\",\n",
    "    \"fdi_net_inflows_percent_gdp\",\n",
    "    \"control_of_corruption\",\n",
    "    \"gross_fixed_capital_formation_usd_2015\",\n",
    "    \"political_stability\",\n",
    "    \"rd_expenditure_percent_gdp\",\n",
    "    \"trade_percent_gdp\",\n",
    "    \"trademark_applications_nonresident\",\n",
    "    \"trademark_applications_resident\",\n",
    "    \"patent_applications_nonresidents\",\n",
    "    \"patent_applications_residents\",\n",
    "     \"logistics_performance_index\",\n",
    "      \"population_ages_15_64_percent\"\n",
    "  ) %>%\n",
    "  mutate(\n",
    "    total_patent_applications = patent_applications_nonresidents + patent_applications_residents,\n",
    "    total_trademark_applications = trademark_applications_nonresident + trademark_applications_resident\n",
    "  ) %>%\n",
    "  dplyr::select(\n",
    "    -patent_applications_nonresidents,\n",
    "    -patent_applications_residents,\n",
    "    -trademark_applications_nonresident,\n",
    "    -trademark_applications_resident\n",
    "  )\n"
   ]
  },
  {
   "cell_type": "markdown",
   "id": "109daca8-b5b4-416b-a833-1c8f23887138",
   "metadata": {},
   "source": [
    "### 4. Elastic Net Analysis with Selected Features and Country/Year dummies\n",
    "This Elastic Net model includes both the selected features from the initial model and the country and year dummy variables. By incorporating these fixed effects, the model better accounts for country-specific and time-specific influences on high-tech exports, improving the robustness of feature selection."
   ]
  },
  {
   "cell_type": "code",
   "execution_count": null,
   "id": "22deb75d-eef8-42fd-a895-5d35f0d97347",
   "metadata": {
    "tags": [],
    "trusted": true
   },
   "outputs": [],
   "source": [
    "scaled_df <- wdi_wide_s %>%\n",
    "  mutate(across(\n",
    "    .cols = -c(countryname, countrycode, year),\n",
    "    .fns = ~ scale(.x)[,1]\n",
    "  ))\n",
    "\n",
    "pdata_scaled <- pdata.frame(scaled_df, index = c(\"countryname\", \"year\"))\n",
    "\n",
    "\n",
    "X <- model.matrix(\n",
    "  ~ . -1,\n",
    "  data = pdata_scaled %>%\n",
    "    dplyr::select(-hightechexports, -countrycode) \n",
    ")\n",
    "\n",
    "y <- pdata_scaled$hightechexports\n",
    "\n",
    "cvfit <- cv.glmnet(X, y, alpha = 0.5)  \n",
    "coef(cvfit, s = \"lambda.min\")"
   ]
  },
  {
   "cell_type": "markdown",
   "id": "88b17e61-159f-4bf2-99f9-e857835c399f",
   "metadata": {},
   "source": [
    "#### Calculating R-squared of Elastic Net with Selected Features and Country/Year Dummies"
   ]
  },
  {
   "cell_type": "code",
   "execution_count": null,
   "id": "ff60b8be-5250-4953-9f99-912989368cb6",
   "metadata": {
    "tags": [],
    "trusted": true
   },
   "outputs": [],
   "source": [
    "X_with_dummies <- model.matrix(~ . -1, \n",
    "                             data = pdata_scaled %>%\n",
    "                               dplyr::select(-hightechexports, -countrycode))\n",
    "y <- pdata_scaled$hightechexports\n",
    "\n",
    "cvfit_with_dummies <- cv.glmnet(X_with_dummies, y, alpha = 0.5)\n",
    "y_pred_with <- predict(cvfit_with_dummies, \n",
    "                      newx = X_with_dummies, \n",
    "                      s = \"lambda.min\")\n",
    "r2_with <- cor(y, y_pred_with)^2\n",
    "\n",
    "X_no_dummies <- model.matrix(~ . -1, \n",
    "                           data = pdata_scaled %>%\n",
    "                             dplyr::select(-hightechexports, -countrycode, -countryname, -year))\n",
    "\n",
    "cvfit_no_dummies <- cv.glmnet(X_no_dummies, y, alpha = 0.5)\n",
    "y_pred_without <- predict(cvfit_no_dummies, \n",
    "                         newx = X_no_dummies, \n",
    "                         s = \"lambda.min\")\n",
    "r2_without <- cor(y, y_pred_without)^2\n",
    "\n",
    "cat(\"R-squared WITH dummies:\", round(r2_with, 3), \"\\n\",\n",
    "    \"R-squared WITHOUT dummies:\", round(r2_without, 3), \"\\n\",\n",
    "    \"Difference:\", round(r2_with - r2_without, 3))"
   ]
  },
  {
   "cell_type": "markdown",
   "id": "6dbceb2d-36e4-4fee-b3df-15841e8630fb",
   "metadata": {},
   "source": [
    "#### Correlation and Coefficient Direction Check with Selected Variables from Elastic Net Analysis with Dummies\n",
    "In this step, we cross-validated the direction and strength of the relationship between the selected features and the target variable (hightechexports).\n",
    "We calculated the Pearson correlation between each variable and the target, and compared it with the sign of the Elastic Net model coefficient.\n",
    "This allows us to check whether the model's direction (positive or negative effect) aligns with the actual data trend. Variables with mismatched signs or low coefficients can be flagged for removal or further inspection."
   ]
  },
  {
   "cell_type": "code",
   "execution_count": null,
   "id": "a7ea21c7-7a24-4861-a754-5b81951cbe2f",
   "metadata": {
    "tags": [],
    "trusted": true
   },
   "outputs": [],
   "source": [
    "selected_vars_enet <- c(\n",
    "  \"taxes_less_subsidies_current_usd\",\n",
    "  \"taxes_goods_services_percent_value_added\",\n",
    "  \"gdp_per_person_employed_ppp_2021\",\n",
    "  \"fdi_net_inflows_percent_gdp\",\n",
    "  \"control_of_corruption\",\n",
    "  \"gross_fixed_capital_formation_usd_2015\",\n",
    "  \"political_stability\",\n",
    "  \"rd_expenditure_percent_gdp\",\n",
    "  \"logistics_performance_index\",\n",
    "  \"population_ages_15_64_percent\",\n",
    "  \"total_patent_applications\",\n",
    "  \"total_trademark_applications\"\n",
    ")\n",
    "\n",
    "target_var <- \"hightechexports\"\n",
    "\n",
    "correlations <- sapply(selected_vars_enet, function(var) {\n",
    "  cor(pdata_scaled[[var]], pdata_scaled[[target_var]], use = \"complete.obs\")\n",
    "})\n",
    "\n",
    "enet_coef <- as.vector(coef(cvfit, s = \"lambda.min\"))\n",
    "coef_names <- rownames(coef(cvfit, s = \"lambda.min\"))\n",
    "\n",
    "model_coefs <- enet_coef[coef_names %in% selected_vars_enet]\n",
    "names(model_coefs) <- coef_names[coef_names %in% selected_vars_enet]\n",
    "\n",
    "comparison_df <- data.frame(\n",
    "  Variable = names(model_coefs),\n",
    "  Correlation = correlations[names(model_coefs)],\n",
    "  Model_Coefficient = model_coefs\n",
    ")\n",
    "\n",
    "comparison_df$Direction_Match <- with(comparison_df, sign(Correlation) == sign(Model_Coefficient))\n",
    "\n",
    "print(comparison_df)\n",
    "\n"
   ]
  },
  {
   "cell_type": "markdown",
   "id": "1bba7c89-1f88-443d-bedf-edcbde8b9eb2",
   "metadata": {},
   "source": [
    "#### Ploting Model Coefficients and Correlations"
   ]
  },
  {
   "cell_type": "code",
   "execution_count": null,
   "id": "c29452cd-3d28-4b1d-abc0-03bd5f1d0f6d",
   "metadata": {
    "tags": [],
    "trusted": true
   },
   "outputs": [],
   "source": [
    "result_df <- data.frame(\n",
    "  Correlation = correlations[names(model_coefs)],\n",
    "  Model_Coefficient = model_coefs,\n",
    "  row.names = names(model_coefs)\n",
    ")\n",
    "\n",
    "\n",
    "df_plot <- result_df %>%\n",
    "  rownames_to_column(\"Variable\") %>%\n",
    "  pivot_longer(cols = c(\"Correlation\", \"Model_Coefficient\"),\n",
    "               names_to = \"Metric\", values_to = \"Value\")\n",
    "\n",
    "ggplot(df_plot, aes(x = reorder(Variable, Value), y = Value, fill = Metric)) +\n",
    "  geom_bar(stat = \"identity\", position = \"dodge\") +\n",
    "  coord_flip() +\n",
    "  labs(title = \"Correlation vs. Model Coefficient\",\n",
    "       x = \"Variables\", y = \"Value\") +\n",
    "  scale_fill_manual(values = c(\"steelblue\", \"darkred\")) +\n",
    "  theme_minimal()"
   ]
  },
  {
   "cell_type": "markdown",
   "id": "03d986d8-c2ad-48d9-8df4-9c277c47f6ff",
   "metadata": {},
   "source": [
    "#### Variable Filtering Based on Model Coefficient and Correlation\n",
    "We flagged variables with high correlation but opposite coefficient signs, or very low model impact, for removal."
   ]
  },
  {
   "cell_type": "code",
   "execution_count": null,
   "id": "df59ef4b-042f-4084-8046-809ac1d9d239",
   "metadata": {
    "tags": [],
    "trusted": true
   },
   "outputs": [],
   "source": [
    "result_df$Direction_Match <- sign(result_df$Correlation) == sign(result_df$Model_Coefficient)\n",
    "\n",
    "high_cor <- abs(result_df$Correlation) > 0.7\n",
    "wrong_sign <- result_df$Direction_Match == FALSE\n",
    "low_coef <- abs(result_df$Model_Coefficient) < 0.005  \n",
    "\n",
    "to_drop <- rownames(result_df)[(high_cor & wrong_sign) | low_coef]\n",
    "print(to_drop)\n"
   ]
  },
  {
   "cell_type": "markdown",
   "id": "e8e9cd87-fd22-4b75-8fab-2fa724687acd",
   "metadata": {},
   "source": [
    "### 5. PLM with excluded variables based on Model Coefficients and Correlations\n",
    "Model finds out that; \"taxes_less_subsidies_current_usd\", \"gdp_per_person_employed_ppp_2021\", \"control_of_corruption\" features are statistically significant."
   ]
  },
  {
   "cell_type": "code",
   "execution_count": null,
   "id": "0897bee5-c963-490a-bde0-0cc4fc5a0ecc",
   "metadata": {
    "tags": [],
    "trusted": true
   },
   "outputs": [],
   "source": [
    "selected_vars_clean <- setdiff(rownames(result_df), to_drop)\n",
    "\n",
    "model_formula_clean <- as.formula(\n",
    "  paste(\"hightechexports ~\", paste(selected_vars_clean, collapse = \" + \"))\n",
    ")\n",
    "\n",
    "model_clean <- plm(model_formula_clean, data = pdata_scaled, model = \"within\")\n",
    "\n",
    "summary(model_clean, vcov = vcovHC)"
   ]
  },
  {
   "cell_type": "markdown",
   "id": "1515cd4a-956a-483b-aca4-13523ccbf113",
   "metadata": {},
   "source": [
    "#### PLM Feature Importance Graph"
   ]
  },
  {
   "cell_type": "code",
   "execution_count": null,
   "id": "8bf49c4b-c5d2-4ea1-b751-002fa0e71455",
   "metadata": {
    "tags": [],
    "trusted": true
   },
   "outputs": [],
   "source": [
    "coef_df <- tidy(model_clean)\n",
    "\n",
    "coef_df <- coef_df %>%\n",
    "  filter(term != \"(Intercept)\") %>%\n",
    "  mutate(Direction = ifelse(estimate >= 0, \"Positive\", \"Negative\"))\n",
    "\n",
    "coef_df$term <- reorder(coef_df$term, abs(coef_df$estimate))\n",
    "\n",
    "ggplot(coef_df, aes(x = term, y = estimate, fill = Direction)) +\n",
    "  geom_bar(stat = \"identity\", width = 0.7) +\n",
    "  coord_flip() +\n",
    "  scale_fill_manual(values = c(\"Positive\" = \"steelblue\", \"Negative\" = \"darkred\")) +\n",
    "  labs(\n",
    "    title = \"Feature Importance (Model Coefficients)\",\n",
    "    x = \"Predictor Variables\",\n",
    "    y = \"Coefficient Estimate\",\n",
    "    fill = \"Effect Direction\"\n",
    "  ) +\n",
    "  theme_minimal()"
   ]
  },
  {
   "cell_type": "markdown",
   "id": "2a41f1f1-211e-42e6-a40c-f7bb1a2e9cb2",
   "metadata": {},
   "source": [
    "### 6. Multicollinearity Control with VIF\n",
    "In the next step, we further refined our variable selection by applying a multicollinearity check using the Variance Inflation Factor (VIF). Variables with high VIF scores were excluded to improve model stability and interpretability. The updated variable set was then used to fit a new fixed effects (PLM) model. \n",
    "\n",
    "In the final PLM model, it is shown that: \"gdp_per_person_employed_ppp_2021\", \"control_of_corruption\" and \"trade_percent_gdp\" features are statistically significant.  "
   ]
  },
  {
   "cell_type": "code",
   "execution_count": null,
   "id": "9368a9c2-3684-4be4-a0f5-e7097ebc6364",
   "metadata": {
    "tags": [],
    "trusted": true
   },
   "outputs": [],
   "source": [
    "pdata_scaled <- pdata.frame(scaled_df, index = c(\"countryname\", \"year\"))\n",
    "\n",
    "predictors <- colnames(pdata_scaled)[\n",
    "  !(colnames(pdata_scaled) %in% c(\"countryname\", \"countrycode\", \"year\", \"hightechexports\"))\n",
    "]\n",
    "\n",
    "vif_formula <- as.formula(paste(\"hightechexports ~\", paste(predictors, collapse = \" + \")))\n",
    "lm_model <- lm(vif_formula, data = pdata_scaled)\n",
    "\n",
    "vif_values <- vif(lm_model)\n",
    "print(vif_values)\n",
    "\n",
    "selected_vars_vif <- names(vif_values[vif_values <= 5])\n",
    "print(\"VIF'e göre seçilen değişkenler:\")\n",
    "print(selected_vars_vif)\n",
    "\n",
    "model_formula_vif <- as.formula(\n",
    "  paste(\"hightechexports ~\", paste(selected_vars_vif, collapse = \" + \"))\n",
    ")\n",
    "model_plm_vif <- plm(model_formula_vif, data = pdata_scaled, model = \"within\")\n",
    "\n",
    "summary(model_plm_vif, vcov = vcovHC)"
   ]
  },
  {
   "cell_type": "markdown",
   "id": "6591cee4-1554-497d-8cd7-fa2a45d7fb44",
   "metadata": {},
   "source": [
    "##### Finally, feature importance was visualized to highlight the relative contribution of each remaining variable."
   ]
  },
  {
   "cell_type": "code",
   "execution_count": null,
   "id": "f72337cf-7c44-4afc-a8a3-dfce7ac06da5",
   "metadata": {
    "tags": [],
    "trusted": true
   },
   "outputs": [],
   "source": [
    "coef_df <- tidy(model_plm_vif, conf.int = TRUE)\n",
    "\n",
    "coef_df <- coef_df[coef_df$term != \"(Intercept)\", ]\n",
    "\n",
    "coef_df$Sign <- ifelse(coef_df$estimate >= 0, \"Positive\", \"Negative\")\n",
    "\n",
    "ggplot(coef_df, aes(x = reorder(term, estimate), y = estimate, fill = Sign)) +\n",
    "  geom_col() +\n",
    "  coord_flip() +\n",
    "  labs(title = \"Feature Importance (VIF Selected Features)\",\n",
    "       x = \"Değişkenler\",\n",
    "       y = \"Katsayı (Estimate)\") +\n",
    "  scale_fill_manual(values = c(\"Positive\" = \"steelblue\", \"Negative\" = \"darkred\")) +\n",
    "  theme_minimal()"
   ]
  },
  {
   "cell_type": "markdown",
   "id": "a89a5097-8086-4d90-8c73-d9f8b95f8080",
   "metadata": {},
   "source": [
    "### 7. Decision Tree Analysis"
   ]
  },
  {
   "cell_type": "markdown",
   "id": "7886362c-d038-4435-a9fe-b8cc1d75c3ec",
   "metadata": {},
   "source": [
    "In this step, we built a decision tree model to explore the patterns behind high-tech exports. The features used in the tree were carefully selected based on previous steps, including Elastic Net regularization, correlation and coefficient direction checks, VIF-based multicollinearity analysis, and panel regression results. This ensured that the tree structure was both interpretable and statistically grounded."
   ]
  },
  {
   "cell_type": "code",
   "execution_count": null,
   "id": "dca01983-13f6-4a08-893a-155cc5a3f34f",
   "metadata": {
    "tags": [],
    "trusted": true
   },
   "outputs": [],
   "source": [
    "tree_model <- rpart(\n",
    "  formula = hightechexports ~ population_ages_15_64_percent +\n",
    "                                    control_of_corruption +\n",
    "                                    gross_fixed_capital_formation_usd_2015 +\n",
    "                                    political_stability + \n",
    "                                    taxes_less_subsidies_current_usd + \n",
    "                                    gdp_per_person_employed_ppp_2021 +\n",
    "                                    rd_expenditure_percent_gdp +\n",
    "                                    trade_percent_gdp,\n",
    "  data = wdi_wide_n,\n",
    "  method = \"anova\"\n",
    ")\n",
    "\n",
    "rpart.plot(tree_model,\n",
    "           type = 2,\n",
    "           extra = 101,\n",
    "           fallen.leaves = TRUE,\n",
    "           main = \"Decision Tree for High-Tech Exports\")"
   ]
  },
  {
   "cell_type": "markdown",
   "id": "2c736908-9553-424e-90f6-95774e5936b2",
   "metadata": {},
   "source": [
    "#### Decision Tree Interprations\n",
    "* The most influential variable is gross fixed capital formation.\n",
    "Countries with higher levels of capital investment tend to have significantly higher levels of high-tech exports.\n",
    "\n",
    "* Other key predictors include trade as a percentage of GDP, net taxes, and the working-age population share.\n",
    "These variables reflect economic openness, fiscal capacity, and labor force quality.\n",
    "\n",
    "* The highest levels of high-tech exports (over $200 billion) are observed in countries with high investment, high trade openness, high net taxes, and a large working-age population.\n",
    "\n",
    "* Conversely, the lowest levels of exports (below $2 billion) are found in countries with very low capital investment.\n"
   ]
  },
  {
   "cell_type": "code",
   "execution_count": null,
   "id": "08a4ba4e-2891-46d4-8f1a-49b531e92a1f",
   "metadata": {
    "tags": [],
    "trusted": true
   },
   "outputs": [],
   "source": [
    "print(tree_model)"
   ]
  },
  {
   "cell_type": "markdown",
   "id": "ad60394c-1f3f-4d48-9d22-945afb3945b9",
   "metadata": {},
   "source": [
    "#### Feature Importance for Decision Tree Analysis"
   ]
  },
  {
   "cell_type": "code",
   "execution_count": null,
   "id": "d2675277-d933-4db7-9540-ec347da277ab",
   "metadata": {
    "tags": [],
    "trusted": true
   },
   "outputs": [],
   "source": [
    "importance_df <- data.frame(\n",
    "  variable = names(tree_model$variable.importance),\n",
    "  importance = tree_model$variable.importance\n",
    ")\n",
    "\n",
    "importance_df <- importance_df[order(importance_df$importance, decreasing = TRUE), ]\n",
    "\n",
    "ggplot(importance_df, aes(x = reorder(variable, importance), y = importance)) +\n",
    "  geom_col(fill = \"darkgreen\") +\n",
    "  coord_flip() +\n",
    "  labs(\n",
    "    title = \"Decision Tree Feature Importance\",\n",
    "    x = \"Variables\",\n",
    "    y = \"Importance Score\"\n",
    "  ) +\n",
    "  theme_minimal()"
   ]
  },
  {
   "cell_type": "markdown",
   "id": "d2ad6064-de3d-4f85-86dd-6b96063fb287",
   "metadata": {},
   "source": [
    "### 8. Clustering Analysis"
   ]
  },
  {
   "cell_type": "code",
   "execution_count": null,
   "id": "91fbacae-2025-4470-b0c3-0f30ae156130",
   "metadata": {
    "tags": [],
    "trusted": true
   },
   "outputs": [],
   "source": [
    "df_clust <- wdi_wide_s %>%\n",
    "  dplyr::select_if(is.numeric) %>%\n",
    "  na.omit()\n",
    "\n",
    "df_scaled <- scale(df_clust)\n",
    "\n",
    "fviz_nbclust(df_scaled, kmeans, method = \"wss\") "
   ]
  },
  {
   "cell_type": "markdown",
   "id": "3786630b-7a08-4880-8a20-528803ee03ef",
   "metadata": {},
   "source": [
    "We selected 3 clusters based on the results of Elbow method applied to the scaled dataset. The Elbow method showed a clear inflection point at k = 3. "
   ]
  },
  {
   "cell_type": "code",
   "execution_count": null,
   "id": "56e5d45e-8681-4faf-a8b8-d63411e25e10",
   "metadata": {
    "tags": [],
    "trusted": true
   },
   "outputs": [],
   "source": [
    "set.seed(200)  \n",
    "\n",
    "pca_res <- prcomp(df_scaled)\n",
    "pca_data <- pca_res$x[, 1:2]\n",
    "\n",
    "kmeans_model <- kmeans(pca_data, centers = 3)\n",
    "\n",
    "wdi_wide_n$cluster <- factor(kmeans_model$cluster)\n",
    "\n",
    "fviz_cluster(\n",
    "  kmeans_model, \n",
    "  data = df_scaled,\n",
    "  ellipse.type = \"norm\",\n",
    "  palette = \"jco\",\n",
    "  ggtheme = theme_minimal(),\n",
    "  main = \"K-means Clustering (k = 3)\"\n",
    ")"
   ]
  },
  {
   "cell_type": "markdown",
   "id": "c52ea929-c18c-41bd-b6a8-db81226e56f7",
   "metadata": {},
   "source": [
    "**Cluster 1 – Open & Wealthy Economies**\n",
    "* Countries with high income levels and strong openness to international trade.\n",
    "* GDP per capita: Highest (~72,522 USD)\n",
    "* Trade openness: Highest (140%) → Strong export orientation\n",
    "* R&D expenditure: High (2.35%)\n",
    "* Political stability & corruption control: Strongest institutions\n",
    "\n",
    "*High-tech exports: Moderate (~22.8 billion USD)*\n",
    "\n",
    "Interpretation: These countries excel in exports and institutional strength but are not necessarily the top high-tech exporters.\n",
    "\n",
    "**Cluster 2 – Transitional Economies**\n",
    "* Middle-income countries still developing their innovation capacity.\n",
    "* GDP per capita: Lowest (~37,428 USD)\n",
    "* R&D expenditure: Lowest (1.10%)\n",
    "* Trade openness: High (120%)\n",
    "* Political stability & corruption control: Weakest\n",
    "\n",
    "*High-tech exports: Lowest (~7.5 billion USD)*\n",
    "\n",
    "Interpretation: These countries are open to trade but lag in R&D and institutional quality.\n",
    "\n",
    "**Cluster 3 – Tech-Driven Power Economies**\n",
    "* Large, industrial economies driven by technology and production.\n",
    "* R&D expenditure: Highest (2.61%)\n",
    "* Capital formation: Extremely high (~618 billion USD)\n",
    "* GDP per capita: Moderate-high (~55,897 USD)\n",
    "* Trade openness: Lowest (70%) → More domestic market focus\n",
    "* Political stability & corruption control: Moderate\n",
    "\n",
    "*High-tech exports: By far the highest (~157 billion USD)*\n",
    "\n",
    "Interpretation: These economies rely less on trade openness and more on internal R&D and industrial capacity.\n"
   ]
  },
  {
   "cell_type": "code",
   "execution_count": null,
   "id": "088c7733-e728-4dfc-b089-afc9f4e5897c",
   "metadata": {
    "tags": [],
    "trusted": true
   },
   "outputs": [],
   "source": [
    "wdi_wide_n %>%\n",
    "  group_by(cluster) %>%\n",
    "  summarise(\n",
    "    avg_hightech = mean(hightechexports),\n",
    "    avg_rd = mean(rd_expenditure_percent_gdp, na.rm = TRUE),\n",
    "    avg_trade = mean(trade_percent_gdp, na.rm = TRUE),\n",
    "    avg_gdp_percapita = mean(gdp_per_capita_ppp_2021, na.rm = TRUE),\n",
    "    avg_polstablity = mean(political_stability, na.rm = TRUE), \n",
    "    avg_agebtw_15_64 = mean(population_ages_15_64_percent, na.rm =TRUE),\n",
    "    avg_cap_formation = mean(gross_fixed_capital_formation_usd_2015, na.rm = TRUE),\n",
    "    avg_control_corruption = mean(control_of_corruption, na.rm = TRUE) ,\n",
    "    .groups = \"drop\"\n",
    "  )\n"
   ]
  },
  {
   "cell_type": "markdown",
   "id": "f4cba689-170f-45b0-8176-95f4f1959dfb",
   "metadata": {},
   "source": [
    "#### Country Clusters based on 2021 data"
   ]
  },
  {
   "cell_type": "code",
   "execution_count": null,
   "id": "45f5674c-3f6e-4c64-a9bf-e14f901d158f",
   "metadata": {
    "tags": [],
    "trusted": true
   },
   "outputs": [],
   "source": [
    "latest_clusters <- wdi_wide_n %>%\n",
    "  group_by(countryname) %>%\n",
    "  filter(year == max(year)) %>%\n",
    "  ungroup() %>%\n",
    "  dplyr::select(countryname, cluster) %>%\n",
    "  distinct() %>%\n",
    "  arrange(cluster, countryname)\n",
    "\n",
    "print(latest_clusters, n = Inf)\n"
   ]
  },
  {
   "cell_type": "markdown",
   "id": "970ba4da-36ef-4284-b834-3bbd205c29e7",
   "metadata": {
    "tags": []
   },
   "source": [
    "#### Clusters of European Countries by High-Tech Characteristics (2021)"
   ]
  },
  {
   "cell_type": "code",
   "execution_count": null,
   "id": "c17360f4-476e-4f3c-b5b7-40887de35303",
   "metadata": {
    "tags": [],
    "trusted": true
   },
   "outputs": [],
   "source": [
    "world <- ne_countries(scale = \"medium\", returnclass = \"sf\")\n",
    "\n",
    "europe <- world %>%\n",
    "  filter(continent == \"Europe\") %>%\n",
    "  filter(!sovereignt %in% c(\"Russia\", \"Turkey\", \"Kazakhstan\", \"Azerbaijan\", \"Armenia\", \"Georgia\"))\n",
    "\n",
    "df_cluster_years <- wdi_wide_n %>%\n",
    "  dplyr::select(countryname, year, cluster) %>%\n",
    "  distinct()\n",
    "\n",
    "\n",
    "cluster_2021<- df_cluster_years %>%\n",
    "  filter(year == 2021) %>%\n",
    "  mutate(countryname = case_when(\n",
    "    countryname == \"United Kingdom\" ~ \"United Kingdom\",\n",
    "    countryname == \"Bosnia & Herzegovina\" ~ \"Bosnia and Herzegovina\",\n",
    "    countryname == \"Czech Republic\" ~ \"Czechia\",\n",
    "    countryname == \"Slovak Republic\" ~ \"Slovakia\",\n",
    "    countryname == \"Serbia\" ~ \"Republic of Serbia\",\n",
    "    countryname == \"North Macedonia\" ~ \"North Macedonia\",\n",
    "    countryname == \"Moldova\" ~ \"Moldova\",\n",
    "    countryname == \"Hungary\" ~ \"Hungary\",\n",
    "    countryname == \"Montenegro\" ~ \"Montenegro\",\n",
    "    countryname == \"Albania\" ~ \"Albania\",\n",
    "    countryname == \"Belarus\" ~ \"Belarus\",\n",
    "    TRUE ~ countryname  \n",
    "  ))\n",
    "\n",
    "cluster_labels <- c(\n",
    "  \"1\" = \"Open and Wealthy Economies\",\n",
    "  \"2\" = \"Transitional Economies\",\n",
    "  \"3\" = \"Tech-Driven Power Economies\"\n",
    ")\n",
    "\n",
    "cluster_2021$cluster_label <- factor(cluster_2021$cluster, labels = cluster_labels)\n",
    "\n",
    "europe_clustered <- left_join(europe, cluster_2021, by = c(\"sovereignt\" = \"countryname\"))\n",
    "\n",
    "ggplot(europe_clustered) +\n",
    "  geom_sf(aes(fill = cluster_label), color = \"gray\", size = 0.1) +\n",
    "  scale_fill_brewer(palette = \"Set2\", na.value = \"gray\", name = \"Cluster\") +\n",
    "  labs(title = \"Clusters of European Countries by High-Tech Characteristics (2021)\") +\n",
    "  theme_void() +\n",
    "  theme(\n",
    "    legend.position = \"bottom\",\n",
    "    plot.margin = unit(c(0.5, 0.5, 0.5, 0.5), \"cm\"),\n",
    "    plot.title = element_text(hjust = 0.5, face = \"bold\", size = 14)\n",
    "  ) +\n",
    "  coord_sf(xlim = c(st_bbox(europe_clustered)$xmin, st_bbox(europe_clustered)$xmax),\n",
    "           ylim = c(st_bbox(europe_clustered)$ymin, st_bbox(europe_clustered)$ymax))\n",
    "\n"
   ]
  },
  {
   "cell_type": "markdown",
   "id": "f3d66d3c-b4ee-46e4-a7e3-403f272de5c7",
   "metadata": {},
   "source": [
    "### 9. Principal Component Analysis (PCA)"
   ]
  },
  {
   "cell_type": "code",
   "execution_count": null,
   "id": "5f560021-b739-4085-9158-5347101238d7",
   "metadata": {
    "tags": [],
    "trusted": true
   },
   "outputs": [],
   "source": [
    "wdi_wide_n$cluster_label <- factor(wdi_wide_n$cluster, labels = cluster_labels)\n",
    "\n",
    "cluster_vec <- wdi_wide_n$cluster\n",
    "\n",
    "df_pca_input <- wdi_wide_n %>%\n",
    "  dplyr::select(where(is.numeric)) %>%\n",
    "  dplyr::select(-hightechexports) \n",
    "\n",
    "pca_res <- PCA(df_pca_input, graph = FALSE)\n",
    "\n",
    "pca_coords <- as.data.frame(pca_res$ind$coord)\n",
    "pca_coords$cluster_label <- wdi_wide_n$cluster_label\n",
    "\n",
    "ggplot(pca_coords, aes(x = Dim.1, y = Dim.2, color = cluster_label)) +\n",
    "  geom_point(alpha = 0.7, size = 2.5) +\n",
    "  labs(\n",
    "    title = \"2D PCA: Clustered Countries\",\n",
    "    x = \"1st Principal Component\",\n",
    "    y = \"2nd Principal Component\",\n",
    "    color = \"Cluster\"\n",
    "  ) +\n",
    "  theme_minimal() +\n",
    "  theme(legend.position = \"bottom\")\n"
   ]
  },
  {
   "cell_type": "markdown",
   "id": "b7c87fef-727a-4f52-baa0-c60acd864b85",
   "metadata": {},
   "source": [
    "##### PCA Analysis on Countries Over Years\n",
    "Visual below shows the trajectories of selected European countries on the PCA space from 2012 to 2021 based on macro-level indicators.\n",
    "\n",
    "Countries like Estonia and Poland show a steady upward and rightward movement, indicating improvement across key dimensions.\n",
    "\n",
    "Germany and Sweden, on the other hand, remain relatively stable in the PCA space, suggesting consistent performance over time.\n",
    "\n",
    "Italy and Romania display more irregular and shifting paths, reflecting fluctuations or mixed progress in their economic or structural indicators."
   ]
  },
  {
   "cell_type": "code",
   "execution_count": null,
   "id": "bfeff365-ed90-46d5-a50c-b281fe680ba0",
   "metadata": {
    "tags": [],
    "trusted": true
   },
   "outputs": [],
   "source": [
    "example_countries <- c(\"Germany\", \"Poland\", \"Romania\", \"Sweden\", \"Italy\", \"Estonia\")\n",
    "\n",
    "pca_coords <- as.data.frame(pca_res$ind$coord)\n",
    "\n",
    "pca_coords$countryname <- wdi_wide_n$countryname\n",
    "pca_coords$year <- wdi_wide_n$year\n",
    "\n",
    "set.seed(123)\n",
    "kmeans_res <- kmeans(pca_coords[, 1:2], centers = 3)\n",
    "pca_coords$cluster <- as.factor(kmeans_res$cluster)\n",
    "\n",
    "pca_subset <- pca_coords %>%\n",
    "  filter(countryname %in% example_countries)\n",
    "\n",
    "ggplot(pca_subset, aes(x = Dim.1, y = Dim.2, group = countryname)) +\n",
    "  geom_path(aes(color = countryname), size = 1.2, arrow = arrow(length = unit(0.15, \"cm\"), type = \"closed\")) +\n",
    "  geom_point(aes(color = countryname, shape = as.factor(year)), size = 3) +\n",
    "  geom_text(aes(label = year), size = 2.5, vjust = -1, color = \"black\") +\n",
    "  theme_minimal() +\n",
    "  labs(\n",
    "    title = \"Yearly Locations of Countries on PCA Analysis\",\n",
    "    x = \"PCA 1\",\n",
    "    y = \"PCA 2\",\n",
    "    shape = \"Year\",\n",
    "    color = \"Country\"\n",
    "  ) +\n",
    "  theme(legend.position = \"bottom\")\n"
   ]
  },
  {
   "cell_type": "markdown",
   "id": "68bde1b0-251a-4f8e-a388-db876d2d5c6b",
   "metadata": {},
   "source": [
    "##### Dimensional PCA Analysis\n",
    "* Dim.1 (PC1) mainly represents economic and innovation capacity – countries with high GDP per capita, R&D spending, and capital formation score higher on this axis.\n",
    "\n",
    "* Dim.2 (PC2) reflects institutional quality and demographics, such as political stability, control of corruption, and working-age population share.\n",
    "\n",
    "Countries moving rightward over time on the PCA plot are improving economically; those moving upward are strengthening in governance and demographic structure.\n",
    "\n",
    "*The position and trajectory of each country in the PCA space help visualize multidimensional development over time.*"
   ]
  },
  {
   "cell_type": "code",
   "execution_count": null,
   "id": "44adbeca-f187-466b-8cea-f39cae3f50a5",
   "metadata": {
    "tags": [],
    "trusted": true
   },
   "outputs": [],
   "source": [
    "fviz_pca_var(pca_res,\n",
    "             col.var = \"contrib\",\n",
    "             gradient.cols = c(\"#00AFBB\", \"#E7B800\", \"#FC4E07\"),\n",
    "             repel = TRUE)\n",
    "\n",
    "pca_res$var$coord "
   ]
  },
  {
   "cell_type": "markdown",
   "id": "fb612567-ca55-45d8-ba85-47e44c6be2ce",
   "metadata": {},
   "source": [
    "## Conclusion\n",
    "This study examined the macroeconomic and institutional factors of high-tech exports in European countries between 2012 and 2021. With methods such as Elastic Net regularization, we initially identified key predictors from a wide set of variables. Features such as R&D expenditure, GDP per person employed, control of corruption, and trade openness consistently emerged as strong drivers of high-tech exports. Panel regression analysis confirmed the significance of these variables, particularly highlighting the robust effect of income per capita and R&D intensity.\n",
    "\n",
    "Further analysis based on correlation direction, multicollinearity (VIF), and model coefficients improved the interpretability and reliability of the regression model. Decision tree modeling showed that countries with higher capital investment, strong trade ratios, and better institutional quality achieved significantly greater high-tech export performance.\n",
    "\n",
    "Clustering analysis grouped countries into three distinct profiles: (1) open and wealthy economies with high trade and stability, (2) transitional economies with lower R&D and exports, and (3) tech-driven powerhouses like Germany, characterized by high production investment and innovation capacity.\n",
    "\n",
    "PCA results visually confirmed these groupings and illustrated country trajectories over time, highlighting structural improvements in some countries and stagnation or volatility in others. Overall, the findings show that sustained investment in innovation, economic openness, and institutional strength are critical to boosting high-tech export capacity in Europe.\n"
   ]
  }
 ],
 "metadata": {
  "kernelspec": {
   "display_name": "Python 3",
   "language": "python",
   "name": "python3"
  },
  "language_info": {
   "codemirror_mode": {
    "name": "ipython",
    "version": 3
   },
   "file_extension": ".py",
   "mimetype": "text/x-python",
   "name": "python",
   "nbconvert_exporter": "python",
   "pygments_lexer": "ipython3",
   "version": "3.13.7"
  }
 },
 "nbformat": 4,
 "nbformat_minor": 5
}
